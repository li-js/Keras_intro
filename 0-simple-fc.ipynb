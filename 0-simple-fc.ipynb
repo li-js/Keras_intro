{
 "cells": [
  {
   "cell_type": "code",
   "execution_count": 58,
   "metadata": {
    "collapsed": false
   },
   "outputs": [],
   "source": [
    "from keras.layers import Input, Dense \n",
    "from keras.models import Model \n",
    "\n",
    "inputs = Input(shape=(784,)) \n",
    "x = Dense(32, activation='relu')(inputs) \n",
    "predictions = Dense(2, activation='softmax')(x)\n",
    "model=Model(input=inputs, output=predictions) "
   ]
  },
  {
   "cell_type": "code",
   "execution_count": 59,
   "metadata": {
    "collapsed": false
   },
   "outputs": [],
   "source": [
    "import numpy as np\n",
    "Nb_sample=10000\n",
    "Dim=784\n",
    "input=np.random.randn(Nb_sample, Dim)\n",
    "output=np.vstack((input.sum(axis=1)<0, input.sum(axis=1)>=0)).transpose()"
   ]
  },
  {
   "cell_type": "code",
   "execution_count": 60,
   "metadata": {
    "collapsed": false
   },
   "outputs": [
    {
     "name": "stdout",
     "output_type": "stream",
     "text": [
      "Epoch 1/10\n",
      "10000/10000 [==============================] - 1s - loss: 0.6956 - acc: 0.6280     \n",
      "Epoch 2/10\n",
      "10000/10000 [==============================] - 1s - loss: 0.4246 - acc: 0.8142     \n",
      "Epoch 3/10\n",
      "10000/10000 [==============================] - 1s - loss: 0.2974 - acc: 0.8937     \n",
      "Epoch 4/10\n",
      "10000/10000 [==============================] - 1s - loss: 0.2160 - acc: 0.9330     \n",
      "Epoch 5/10\n",
      "10000/10000 [==============================] - 1s - loss: 0.1616 - acc: 0.9567     \n",
      "Epoch 6/10\n",
      "10000/10000 [==============================] - 1s - loss: 0.1238 - acc: 0.9735     \n",
      "Epoch 7/10\n",
      "10000/10000 [==============================] - 1s - loss: 0.0961 - acc: 0.9856     \n",
      "Epoch 8/10\n",
      "10000/10000 [==============================] - 1s - loss: 0.0760 - acc: 0.9926     \n",
      "Epoch 9/10\n",
      "10000/10000 [==============================] - 1s - loss: 0.0607 - acc: 0.9966     \n",
      "Epoch 10/10\n",
      "10000/10000 [==============================] - 1s - loss: 0.0495 - acc: 0.9987     \n"
     ]
    },
    {
     "data": {
      "text/plain": [
       "<keras.callbacks.History at 0x7fa40371c210>"
      ]
     },
     "execution_count": 60,
     "metadata": {},
     "output_type": "execute_result"
    }
   ],
   "source": [
    "model.compile(optimizer='sgd',  loss='categorical_crossentropy', metrics=['accuracy']) \n",
    "model.fit(input, output, batch_size=32)"
   ]
  },
  {
   "cell_type": "code",
   "execution_count": 61,
   "metadata": {
    "collapsed": false
   },
   "outputs": [
    {
     "name": "stdout",
     "output_type": "stream",
     "text": [
      "[ 25.89251229]\n",
      "[[ 0.02462758  0.97537249]]\n"
     ]
    }
   ],
   "source": [
    "test_in=np.random.randn(1, Dim)\n",
    "print test_in.sum(axis=1)\n",
    "print model.predict(test_in)\n"
   ]
  }
 ],
 "metadata": {
  "kernelspec": {
   "display_name": "Python 2",
   "language": "python",
   "name": "python2"
  },
  "language_info": {
   "codemirror_mode": {
    "name": "ipython",
    "version": 2
   },
   "file_extension": ".py",
   "mimetype": "text/x-python",
   "name": "python",
   "nbconvert_exporter": "python",
   "pygments_lexer": "ipython2",
   "version": "2.7.12"
  }
 },
 "nbformat": 4,
 "nbformat_minor": 0
}
