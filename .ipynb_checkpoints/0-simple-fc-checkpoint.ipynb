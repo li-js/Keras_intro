{
 "cells": [
  {
   "cell_type": "code",
   "execution_count": 1,
   "metadata": {
    "collapsed": false
   },
   "outputs": [
    {
     "name": "stderr",
     "output_type": "stream",
     "text": [
      "Using TensorFlow backend.\n"
     ]
    }
   ],
   "source": [
    "from keras.layers import Input, Dense \n",
    "from keras.models import Model \n",
    "\n",
    "inputs = Input(shape=(784,)) \n",
    "x = Dense(32, activation='relu')(inputs) \n",
    "predictions = Dense(2, activation='softmax')(x)\n",
    "model=Model(input=inputs, output=predictions) "
   ]
  },
  {
   "cell_type": "code",
   "execution_count": 2,
   "metadata": {
    "collapsed": false
   },
   "outputs": [],
   "source": [
    "import numpy as np\n",
    "Nb_sample=10000\n",
    "Dim=784\n",
    "input=np.random.randn(Nb_sample, Dim)\n",
    "output=np.vstack((input.sum(axis=1)<0, input.sum(axis=1)>=0)).transpose()"
   ]
  },
  {
   "cell_type": "code",
   "execution_count": 11,
   "metadata": {
    "collapsed": false
   },
   "outputs": [
    {
     "name": "stdout",
     "output_type": "stream",
     "text": [
      "Epoch 1/10\n",
      "10000/10000 [==============================] - 1s - loss: 0.0415 - acc: 0.9996     \n",
      "Epoch 2/10\n",
      "10000/10000 [==============================] - 1s - loss: 0.0349 - acc: 0.9996     \n",
      "Epoch 3/10\n",
      "10000/10000 [==============================] - 1s - loss: 0.0299 - acc: 0.9998     \n",
      "Epoch 4/10\n",
      "10000/10000 [==============================] - 1s - loss: 0.0259 - acc: 0.9999     \n",
      "Epoch 5/10\n",
      "10000/10000 [==============================] - 1s - loss: 0.0227 - acc: 1.0000     \n",
      "Epoch 6/10\n",
      "10000/10000 [==============================] - 1s - loss: 0.0201 - acc: 1.0000     \n",
      "Epoch 7/10\n",
      "10000/10000 [==============================] - 1s - loss: 0.0179 - acc: 1.0000     \n",
      "Epoch 8/10\n",
      "10000/10000 [==============================] - 1s - loss: 0.0162 - acc: 1.0000     \n",
      "Epoch 9/10\n",
      "10000/10000 [==============================] - 1s - loss: 0.0147 - acc: 1.0000     \n",
      "Epoch 10/10\n",
      "10000/10000 [==============================] - 1s - loss: 0.0134 - acc: 1.0000     \n"
     ]
    },
    {
     "data": {
      "text/plain": [
       "<keras.callbacks.History at 0x7faebc177090>"
      ]
     },
     "execution_count": 11,
     "metadata": {},
     "output_type": "execute_result"
    }
   ],
   "source": [
    "model.compile(optimizer='sgd',  loss='categorical_crossentropy', metrics=['accuracy']) \n",
    "model.fit(input, output, batch_size=32)"
   ]
  },
  {
   "cell_type": "code",
   "execution_count": 14,
   "metadata": {
    "collapsed": false
   },
   "outputs": [
    {
     "name": "stdout",
     "output_type": "stream",
     "text": [
      "[  0.11488295 -17.01442049]\n",
      "[[ 0.52866429  0.47133577]\n",
      " [ 0.99400383  0.00599621]]\n"
     ]
    }
   ],
   "source": [
    "import numpy as np\n",
    "test_in=np.random.randn(2, Dim)\n",
    "print test_in.sum(axis=1)\n",
    "print model.predict(test_in)\n"
   ]
  },
  {
   "cell_type": "code",
   "execution_count": 10,
   "metadata": {
    "collapsed": false
   },
   "outputs": [
    {
     "data": {
      "text/plain": [
       "(2,)"
      ]
     },
     "execution_count": 10,
     "metadata": {},
     "output_type": "execute_result"
    }
   ],
   "source": [
    "model.get_weights()[3].shape\n"
   ]
  }
 ],
 "metadata": {
  "kernelspec": {
   "display_name": "Python 2",
   "language": "python",
   "name": "python2"
  },
  "language_info": {
   "codemirror_mode": {
    "name": "ipython",
    "version": 2
   },
   "file_extension": ".py",
   "mimetype": "text/x-python",
   "name": "python",
   "nbconvert_exporter": "python",
   "pygments_lexer": "ipython2",
   "version": "2.7.12"
  }
 },
 "nbformat": 4,
 "nbformat_minor": 0
}
